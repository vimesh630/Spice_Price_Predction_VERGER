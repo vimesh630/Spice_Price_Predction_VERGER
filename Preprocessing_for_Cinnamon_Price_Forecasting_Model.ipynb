{
  "nbformat": 4,
  "nbformat_minor": 0,
  "metadata": {
    "colab": {
      "provenance": [],
      "authorship_tag": "ABX9TyMg0sc+E+99X6WSzkIanGYZ",
      "include_colab_link": true
    },
    "kernelspec": {
      "name": "python3",
      "display_name": "Python 3"
    },
    "language_info": {
      "name": "python"
    }
  },
  "cells": [
    {
      "cell_type": "markdown",
      "metadata": {
        "id": "view-in-github",
        "colab_type": "text"
      },
      "source": [
        "<a href=\"https://colab.research.google.com/github/vimesh630/Spice_Price_Predction_VERGER/blob/Cinnamon/Preprocessing_for_Cinnamon_Price_Forecasting_Model.ipynb\" target=\"_parent\"><img src=\"https://colab.research.google.com/assets/colab-badge.svg\" alt=\"Open In Colab\"/></a>"
      ]
    },
    {
      "cell_type": "markdown",
      "source": [
        "#1. Mount Google Drive"
      ],
      "metadata": {
        "id": "CwgcsRO2x5_v"
      }
    },
    {
      "cell_type": "code",
      "execution_count": 1,
      "metadata": {
        "colab": {
          "base_uri": "https://localhost:8080/"
        },
        "id": "Vb3ih5lqiLai",
        "outputId": "dc038e1e-76a6-4074-982a-ef4c3e4545f2"
      },
      "outputs": [
        {
          "output_type": "stream",
          "name": "stdout",
          "text": [
            "Mounted at /content/drive\n"
          ]
        }
      ],
      "source": [
        "from google.colab import drive\n",
        "drive.mount('/content/drive')"
      ]
    },
    {
      "cell_type": "markdown",
      "source": [
        "#2. Setting File Paths"
      ],
      "metadata": {
        "id": "3-IiRZlfzZlf"
      }
    },
    {
      "cell_type": "code",
      "source": [
        "input_path = '/content/drive/MyDrive/VERGER/Cinnamon_Price_Prediction/Cinnamon_Dataset_New_0001.xlsx'\n",
        "clean_output_path = '/content/drive/MyDrive/VERGER/Cinnamon_Price_Prediction/clean_train_data.csv'\n",
        "test_output_path = '/content/drive/MyDrive/VERGER/Cinnamon_Price_Prediction/clean_test_data.csv'\n",
        "scaled_train_output = '/content/drive/MyDrive/VERGER/Cinnamon_Price_Prediction/scaled_train_lstm.csv'\n",
        "scaled_test_output = '/content/drive/MyDrive/VERGER/Cinnamon_Price_Prediction/scaled_test_lstm.csv'"
      ],
      "metadata": {
        "id": "VHkJ_TMuzlr5"
      },
      "execution_count": 2,
      "outputs": []
    },
    {
      "cell_type": "markdown",
      "source": [
        "#3. Import Libraries"
      ],
      "metadata": {
        "id": "4qbOhIRO042F"
      }
    },
    {
      "cell_type": "code",
      "source": [
        "import pandas as pd\n",
        "import numpy as np\n",
        "import matplotlib.pyplot as plt\n",
        "from sklearn.preprocessing import MinMaxScaler"
      ],
      "metadata": {
        "id": "3NfgnkB_1BL5"
      },
      "execution_count": null,
      "outputs": []
    },
    {
      "cell_type": "markdown",
      "source": [
        "#4. Load the spreadsheet"
      ],
      "metadata": {
        "id": "Cj2xEfSx25Gn"
      }
    },
    {
      "cell_type": "code",
      "source": [
        "df=pd.read_excel(input_path)"
      ],
      "metadata": {
        "id": "jKsuT4HN28SW"
      },
      "execution_count": null,
      "outputs": []
    }
  ]
}