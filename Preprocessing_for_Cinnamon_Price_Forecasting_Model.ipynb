{
  "nbformat": 4,
  "nbformat_minor": 0,
  "metadata": {
    "colab": {
      "provenance": [],
      "authorship_tag": "ABX9TyP/fo7R5Oub+vePQ9h1lvh7",
      "include_colab_link": true
    },
    "kernelspec": {
      "name": "python3",
      "display_name": "Python 3"
    },
    "language_info": {
      "name": "python"
    }
  },
  "cells": [
    {
      "cell_type": "markdown",
      "metadata": {
        "id": "view-in-github",
        "colab_type": "text"
      },
      "source": [
        "<a href=\"https://colab.research.google.com/github/vimesh630/Spice_Price_Predction_VERGER/blob/Cinnamon/Preprocessing_for_Cinnamon_Price_Forecasting_Model.ipynb\" target=\"_parent\"><img src=\"https://colab.research.google.com/assets/colab-badge.svg\" alt=\"Open In Colab\"/></a>"
      ]
    },
    {
      "cell_type": "markdown",
      "source": [
        "#1. Mount Google Drive"
      ],
      "metadata": {
        "id": "VWjKo4CoSTQo"
      }
    },
    {
      "cell_type": "code",
      "source": [
        "from google.colab import drive\n",
        "drive.mount('/content/drive')"
      ],
      "metadata": {
        "colab": {
          "base_uri": "https://localhost:8080/"
        },
        "id": "_AYFiTjPSV26",
        "outputId": "1f08cb5a-e966-4518-d6a3-72b9c69d97fc"
      },
      "execution_count": 13,
      "outputs": [
        {
          "output_type": "stream",
          "name": "stdout",
          "text": [
            "Drive already mounted at /content/drive; to attempt to forcibly remount, call drive.mount(\"/content/drive\", force_remount=True).\n"
          ]
        }
      ]
    },
    {
      "cell_type": "markdown",
      "source": [
        "#2. Import Libraries"
      ],
      "metadata": {
        "id": "Bz3DJPrmSdWd"
      }
    },
    {
      "cell_type": "code",
      "source": [
        "import pandas as pd\n",
        "import numpy as np\n",
        "import os\n",
        "import matplotlib.pyplot as plt\n",
        "from sklearn.preprocessing import MinMaxScaler\n",
        "from sklearn.impute import KNNImputer\n",
        "from datetime import datetime"
      ],
      "metadata": {
        "id": "qzbLG3OXVDJP"
      },
      "execution_count": 14,
      "outputs": []
    },
    {
      "cell_type": "markdown",
      "source": [
        "#3. Set Paths"
      ],
      "metadata": {
        "id": "REmLBSr5VRer"
      }
    },
    {
      "cell_type": "code",
      "source": [
        "dataset_path = '/content/drive/MyDrive/VERGER/Cinnamon_Price_Prediction/Cinnamon_Dataset_New_0001.xlsx'\n",
        "save_path = '/content/drive/MyDrive/VERGER/Cinnamon_Price_Prediction'\n",
        "os.makedirs(save_path, exist_ok=True)"
      ],
      "metadata": {
        "id": "8rsZIofXVVhH"
      },
      "execution_count": 15,
      "outputs": []
    },
    {
      "cell_type": "markdown",
      "source": [
        "#4. Load Dataset"
      ],
      "metadata": {
        "id": "WmIBkRyYWHXJ"
      }
    },
    {
      "cell_type": "code",
      "source": [
        "df = pd.read_excel(dataset_path)\n",
        "print(\"Initial shape:\", df.shape)\n",
        "df.head()"
      ],
      "metadata": {
        "colab": {
          "base_uri": "https://localhost:8080/",
          "height": 330
        },
        "id": "75Z8_1kwWkJj",
        "outputId": "481b47a8-2a48-4c70-a836-e244527d491e"
      },
      "execution_count": 16,
      "outputs": [
        {
          "output_type": "stream",
          "name": "stdout",
          "text": [
            "Initial shape: (2772, 16)\n"
          ]
        },
        {
          "output_type": "execute_result",
          "data": {
            "text/plain": [
              "       Month Grade     Region  ...  Exchange_Rate  Inflation_Rate  Fuel_Price\n",
              "0 2020-01-01  alba  ratnapura  ...       181.4036             5.7         104\n",
              "1 2020-01-03  alba    colombo  ...       181.4036             5.7         104\n",
              "2 2020-01-04  alba   kalutara  ...       181.4036             5.7         104\n",
              "3 2020-01-05  alba      galle  ...       181.4036             5.7         104\n",
              "4 2020-01-06  alba     matara  ...       181.4036             5.7         104\n",
              "\n",
              "[5 rows x 16 columns]"
            ],
            "text/html": [
              "\n",
              "  <div id=\"df-5db33f02-9345-4f1e-a0aa-25a0a0fff9b2\" class=\"colab-df-container\">\n",
              "    <div>\n",
              "<style scoped>\n",
              "    .dataframe tbody tr th:only-of-type {\n",
              "        vertical-align: middle;\n",
              "    }\n",
              "\n",
              "    .dataframe tbody tr th {\n",
              "        vertical-align: top;\n",
              "    }\n",
              "\n",
              "    .dataframe thead th {\n",
              "        text-align: right;\n",
              "    }\n",
              "</style>\n",
              "<table border=\"1\" class=\"dataframe\">\n",
              "  <thead>\n",
              "    <tr style=\"text-align: right;\">\n",
              "      <th></th>\n",
              "      <th>Month</th>\n",
              "      <th>Grade</th>\n",
              "      <th>Region</th>\n",
              "      <th>Is_Active_Region</th>\n",
              "      <th>Regional_Price</th>\n",
              "      <th>National_Price</th>\n",
              "      <th>Seasonal_Impact</th>\n",
              "      <th>Local_Production_Volume</th>\n",
              "      <th>Local_Export_Volume</th>\n",
              "      <th>Global_Production_Volume</th>\n",
              "      <th>Global_Consumption_Volume</th>\n",
              "      <th>Temperature</th>\n",
              "      <th>Rainfall</th>\n",
              "      <th>Exchange_Rate</th>\n",
              "      <th>Inflation_Rate</th>\n",
              "      <th>Fuel_Price</th>\n",
              "    </tr>\n",
              "  </thead>\n",
              "  <tbody>\n",
              "    <tr>\n",
              "      <th>0</th>\n",
              "      <td>2020-01-01</td>\n",
              "      <td>alba</td>\n",
              "      <td>ratnapura</td>\n",
              "      <td>1</td>\n",
              "      <td>2733.25</td>\n",
              "      <td>2758.1875</td>\n",
              "      <td>0</td>\n",
              "      <td>0.0</td>\n",
              "      <td>1310.5</td>\n",
              "      <td>19156.0</td>\n",
              "      <td>11106.0</td>\n",
              "      <td>25.560625</td>\n",
              "      <td>57.7385</td>\n",
              "      <td>181.4036</td>\n",
              "      <td>5.7</td>\n",
              "      <td>104</td>\n",
              "    </tr>\n",
              "    <tr>\n",
              "      <th>1</th>\n",
              "      <td>2020-01-03</td>\n",
              "      <td>alba</td>\n",
              "      <td>colombo</td>\n",
              "      <td>0</td>\n",
              "      <td>NaN</td>\n",
              "      <td>2758.1875</td>\n",
              "      <td>0</td>\n",
              "      <td>0.0</td>\n",
              "      <td>1310.5</td>\n",
              "      <td>19156.0</td>\n",
              "      <td>11106.0</td>\n",
              "      <td>25.560625</td>\n",
              "      <td>57.7385</td>\n",
              "      <td>181.4036</td>\n",
              "      <td>5.7</td>\n",
              "      <td>104</td>\n",
              "    </tr>\n",
              "    <tr>\n",
              "      <th>2</th>\n",
              "      <td>2020-01-04</td>\n",
              "      <td>alba</td>\n",
              "      <td>kalutara</td>\n",
              "      <td>1</td>\n",
              "      <td>2566.50</td>\n",
              "      <td>2758.1875</td>\n",
              "      <td>0</td>\n",
              "      <td>0.0</td>\n",
              "      <td>1310.5</td>\n",
              "      <td>19156.0</td>\n",
              "      <td>11106.0</td>\n",
              "      <td>25.560625</td>\n",
              "      <td>57.7385</td>\n",
              "      <td>181.4036</td>\n",
              "      <td>5.7</td>\n",
              "      <td>104</td>\n",
              "    </tr>\n",
              "    <tr>\n",
              "      <th>3</th>\n",
              "      <td>2020-01-05</td>\n",
              "      <td>alba</td>\n",
              "      <td>galle</td>\n",
              "      <td>1</td>\n",
              "      <td>2745.00</td>\n",
              "      <td>2758.1875</td>\n",
              "      <td>0</td>\n",
              "      <td>0.0</td>\n",
              "      <td>1310.5</td>\n",
              "      <td>19156.0</td>\n",
              "      <td>11106.0</td>\n",
              "      <td>25.560625</td>\n",
              "      <td>57.7385</td>\n",
              "      <td>181.4036</td>\n",
              "      <td>5.7</td>\n",
              "      <td>104</td>\n",
              "    </tr>\n",
              "    <tr>\n",
              "      <th>4</th>\n",
              "      <td>2020-01-06</td>\n",
              "      <td>alba</td>\n",
              "      <td>matara</td>\n",
              "      <td>1</td>\n",
              "      <td>3006.50</td>\n",
              "      <td>2758.1875</td>\n",
              "      <td>0</td>\n",
              "      <td>0.0</td>\n",
              "      <td>1310.5</td>\n",
              "      <td>19156.0</td>\n",
              "      <td>11106.0</td>\n",
              "      <td>25.560625</td>\n",
              "      <td>57.7385</td>\n",
              "      <td>181.4036</td>\n",
              "      <td>5.7</td>\n",
              "      <td>104</td>\n",
              "    </tr>\n",
              "  </tbody>\n",
              "</table>\n",
              "</div>\n",
              "    <div class=\"colab-df-buttons\">\n",
              "\n",
              "  <div class=\"colab-df-container\">\n",
              "    <button class=\"colab-df-convert\" onclick=\"convertToInteractive('df-5db33f02-9345-4f1e-a0aa-25a0a0fff9b2')\"\n",
              "            title=\"Convert this dataframe to an interactive table.\"\n",
              "            style=\"display:none;\">\n",
              "\n",
              "  <svg xmlns=\"http://www.w3.org/2000/svg\" height=\"24px\" viewBox=\"0 -960 960 960\">\n",
              "    <path d=\"M120-120v-720h720v720H120Zm60-500h600v-160H180v160Zm220 220h160v-160H400v160Zm0 220h160v-160H400v160ZM180-400h160v-160H180v160Zm440 0h160v-160H620v160ZM180-180h160v-160H180v160Zm440 0h160v-160H620v160Z\"/>\n",
              "  </svg>\n",
              "    </button>\n",
              "\n",
              "  <style>\n",
              "    .colab-df-container {\n",
              "      display:flex;\n",
              "      gap: 12px;\n",
              "    }\n",
              "\n",
              "    .colab-df-convert {\n",
              "      background-color: #E8F0FE;\n",
              "      border: none;\n",
              "      border-radius: 50%;\n",
              "      cursor: pointer;\n",
              "      display: none;\n",
              "      fill: #1967D2;\n",
              "      height: 32px;\n",
              "      padding: 0 0 0 0;\n",
              "      width: 32px;\n",
              "    }\n",
              "\n",
              "    .colab-df-convert:hover {\n",
              "      background-color: #E2EBFA;\n",
              "      box-shadow: 0px 1px 2px rgba(60, 64, 67, 0.3), 0px 1px 3px 1px rgba(60, 64, 67, 0.15);\n",
              "      fill: #174EA6;\n",
              "    }\n",
              "\n",
              "    .colab-df-buttons div {\n",
              "      margin-bottom: 4px;\n",
              "    }\n",
              "\n",
              "    [theme=dark] .colab-df-convert {\n",
              "      background-color: #3B4455;\n",
              "      fill: #D2E3FC;\n",
              "    }\n",
              "\n",
              "    [theme=dark] .colab-df-convert:hover {\n",
              "      background-color: #434B5C;\n",
              "      box-shadow: 0px 1px 3px 1px rgba(0, 0, 0, 0.15);\n",
              "      filter: drop-shadow(0px 1px 2px rgba(0, 0, 0, 0.3));\n",
              "      fill: #FFFFFF;\n",
              "    }\n",
              "  </style>\n",
              "\n",
              "    <script>\n",
              "      const buttonEl =\n",
              "        document.querySelector('#df-5db33f02-9345-4f1e-a0aa-25a0a0fff9b2 button.colab-df-convert');\n",
              "      buttonEl.style.display =\n",
              "        google.colab.kernel.accessAllowed ? 'block' : 'none';\n",
              "\n",
              "      async function convertToInteractive(key) {\n",
              "        const element = document.querySelector('#df-5db33f02-9345-4f1e-a0aa-25a0a0fff9b2');\n",
              "        const dataTable =\n",
              "          await google.colab.kernel.invokeFunction('convertToInteractive',\n",
              "                                                    [key], {});\n",
              "        if (!dataTable) return;\n",
              "\n",
              "        const docLinkHtml = 'Like what you see? Visit the ' +\n",
              "          '<a target=\"_blank\" href=https://colab.research.google.com/notebooks/data_table.ipynb>data table notebook</a>'\n",
              "          + ' to learn more about interactive tables.';\n",
              "        element.innerHTML = '';\n",
              "        dataTable['output_type'] = 'display_data';\n",
              "        await google.colab.output.renderOutput(dataTable, element);\n",
              "        const docLink = document.createElement('div');\n",
              "        docLink.innerHTML = docLinkHtml;\n",
              "        element.appendChild(docLink);\n",
              "      }\n",
              "    </script>\n",
              "  </div>\n",
              "\n",
              "\n",
              "    <div id=\"df-d5f7824f-0805-4326-b4c6-edf2d23df6ad\">\n",
              "      <button class=\"colab-df-quickchart\" onclick=\"quickchart('df-d5f7824f-0805-4326-b4c6-edf2d23df6ad')\"\n",
              "                title=\"Suggest charts\"\n",
              "                style=\"display:none;\">\n",
              "\n",
              "<svg xmlns=\"http://www.w3.org/2000/svg\" height=\"24px\"viewBox=\"0 0 24 24\"\n",
              "     width=\"24px\">\n",
              "    <g>\n",
              "        <path d=\"M19 3H5c-1.1 0-2 .9-2 2v14c0 1.1.9 2 2 2h14c1.1 0 2-.9 2-2V5c0-1.1-.9-2-2-2zM9 17H7v-7h2v7zm4 0h-2V7h2v10zm4 0h-2v-4h2v4z\"/>\n",
              "    </g>\n",
              "</svg>\n",
              "      </button>\n",
              "\n",
              "<style>\n",
              "  .colab-df-quickchart {\n",
              "      --bg-color: #E8F0FE;\n",
              "      --fill-color: #1967D2;\n",
              "      --hover-bg-color: #E2EBFA;\n",
              "      --hover-fill-color: #174EA6;\n",
              "      --disabled-fill-color: #AAA;\n",
              "      --disabled-bg-color: #DDD;\n",
              "  }\n",
              "\n",
              "  [theme=dark] .colab-df-quickchart {\n",
              "      --bg-color: #3B4455;\n",
              "      --fill-color: #D2E3FC;\n",
              "      --hover-bg-color: #434B5C;\n",
              "      --hover-fill-color: #FFFFFF;\n",
              "      --disabled-bg-color: #3B4455;\n",
              "      --disabled-fill-color: #666;\n",
              "  }\n",
              "\n",
              "  .colab-df-quickchart {\n",
              "    background-color: var(--bg-color);\n",
              "    border: none;\n",
              "    border-radius: 50%;\n",
              "    cursor: pointer;\n",
              "    display: none;\n",
              "    fill: var(--fill-color);\n",
              "    height: 32px;\n",
              "    padding: 0;\n",
              "    width: 32px;\n",
              "  }\n",
              "\n",
              "  .colab-df-quickchart:hover {\n",
              "    background-color: var(--hover-bg-color);\n",
              "    box-shadow: 0 1px 2px rgba(60, 64, 67, 0.3), 0 1px 3px 1px rgba(60, 64, 67, 0.15);\n",
              "    fill: var(--button-hover-fill-color);\n",
              "  }\n",
              "\n",
              "  .colab-df-quickchart-complete:disabled,\n",
              "  .colab-df-quickchart-complete:disabled:hover {\n",
              "    background-color: var(--disabled-bg-color);\n",
              "    fill: var(--disabled-fill-color);\n",
              "    box-shadow: none;\n",
              "  }\n",
              "\n",
              "  .colab-df-spinner {\n",
              "    border: 2px solid var(--fill-color);\n",
              "    border-color: transparent;\n",
              "    border-bottom-color: var(--fill-color);\n",
              "    animation:\n",
              "      spin 1s steps(1) infinite;\n",
              "  }\n",
              "\n",
              "  @keyframes spin {\n",
              "    0% {\n",
              "      border-color: transparent;\n",
              "      border-bottom-color: var(--fill-color);\n",
              "      border-left-color: var(--fill-color);\n",
              "    }\n",
              "    20% {\n",
              "      border-color: transparent;\n",
              "      border-left-color: var(--fill-color);\n",
              "      border-top-color: var(--fill-color);\n",
              "    }\n",
              "    30% {\n",
              "      border-color: transparent;\n",
              "      border-left-color: var(--fill-color);\n",
              "      border-top-color: var(--fill-color);\n",
              "      border-right-color: var(--fill-color);\n",
              "    }\n",
              "    40% {\n",
              "      border-color: transparent;\n",
              "      border-right-color: var(--fill-color);\n",
              "      border-top-color: var(--fill-color);\n",
              "    }\n",
              "    60% {\n",
              "      border-color: transparent;\n",
              "      border-right-color: var(--fill-color);\n",
              "    }\n",
              "    80% {\n",
              "      border-color: transparent;\n",
              "      border-right-color: var(--fill-color);\n",
              "      border-bottom-color: var(--fill-color);\n",
              "    }\n",
              "    90% {\n",
              "      border-color: transparent;\n",
              "      border-bottom-color: var(--fill-color);\n",
              "    }\n",
              "  }\n",
              "</style>\n",
              "\n",
              "      <script>\n",
              "        async function quickchart(key) {\n",
              "          const quickchartButtonEl =\n",
              "            document.querySelector('#' + key + ' button');\n",
              "          quickchartButtonEl.disabled = true;  // To prevent multiple clicks.\n",
              "          quickchartButtonEl.classList.add('colab-df-spinner');\n",
              "          try {\n",
              "            const charts = await google.colab.kernel.invokeFunction(\n",
              "                'suggestCharts', [key], {});\n",
              "          } catch (error) {\n",
              "            console.error('Error during call to suggestCharts:', error);\n",
              "          }\n",
              "          quickchartButtonEl.classList.remove('colab-df-spinner');\n",
              "          quickchartButtonEl.classList.add('colab-df-quickchart-complete');\n",
              "        }\n",
              "        (() => {\n",
              "          let quickchartButtonEl =\n",
              "            document.querySelector('#df-d5f7824f-0805-4326-b4c6-edf2d23df6ad button');\n",
              "          quickchartButtonEl.style.display =\n",
              "            google.colab.kernel.accessAllowed ? 'block' : 'none';\n",
              "        })();\n",
              "      </script>\n",
              "    </div>\n",
              "\n",
              "    </div>\n",
              "  </div>\n"
            ],
            "application/vnd.google.colaboratory.intrinsic+json": {
              "type": "dataframe",
              "variable_name": "df",
              "summary": "{\n  \"name\": \"df\",\n  \"rows\": 2772,\n  \"fields\": [\n    {\n      \"column\": \"Month\",\n      \"properties\": {\n        \"dtype\": \"date\",\n        \"min\": \"2020-01-01 00:00:00\",\n        \"max\": \"2025-06-29 00:00:00\",\n        \"num_unique_values\": 1864,\n        \"samples\": [\n          \"2020-09-12 00:00:00\",\n          \"2021-07-02 00:00:00\",\n          \"2023-08-13 00:00:00\"\n        ],\n        \"semantic_type\": \"\",\n        \"description\": \"\"\n      }\n    },\n    {\n      \"column\": \"Grade\",\n      \"properties\": {\n        \"dtype\": \"category\",\n        \"num_unique_values\": 7,\n        \"samples\": [\n          \"alba\",\n          \"c5sp\",\n          \"h2\"\n        ],\n        \"semantic_type\": \"\",\n        \"description\": \"\"\n      }\n    },\n    {\n      \"column\": \"Region\",\n      \"properties\": {\n        \"dtype\": \"category\",\n        \"num_unique_values\": 6,\n        \"samples\": [\n          \"ratnapura\",\n          \"colombo\",\n          \"hambantota\"\n        ],\n        \"semantic_type\": \"\",\n        \"description\": \"\"\n      }\n    },\n    {\n      \"column\": \"Is_Active_Region\",\n      \"properties\": {\n        \"dtype\": \"number\",\n        \"std\": 0,\n        \"min\": 0,\n        \"max\": 1,\n        \"num_unique_values\": 2,\n        \"samples\": [\n          0,\n          1\n        ],\n        \"semantic_type\": \"\",\n        \"description\": \"\"\n      }\n    },\n    {\n      \"column\": \"Regional_Price\",\n      \"properties\": {\n        \"dtype\": \"number\",\n        \"std\": 871.3456713993756,\n        \"min\": 1199.75,\n        \"max\": 6420.0,\n        \"num_unique_values\": 1356,\n        \"samples\": [\n          2150.0,\n          3693.75\n        ],\n        \"semantic_type\": \"\",\n        \"description\": \"\"\n      }\n    },\n    {\n      \"column\": \"National_Price\",\n      \"properties\": {\n        \"dtype\": \"number\",\n        \"std\": 893.4844236533188,\n        \"min\": 1407.5,\n        \"max\": 5885.7,\n        \"num_unique_values\": 455,\n        \"samples\": [\n          3760.75,\n          1904.232\n        ],\n        \"semantic_type\": \"\",\n        \"description\": \"\"\n      }\n    },\n    {\n      \"column\": \"Seasonal_Impact\",\n      \"properties\": {\n        \"dtype\": \"number\",\n        \"std\": 0,\n        \"min\": 0,\n        \"max\": 1,\n        \"num_unique_values\": 2,\n        \"samples\": [\n          1,\n          0\n        ],\n        \"semantic_type\": \"\",\n        \"description\": \"\"\n      }\n    },\n    {\n      \"column\": \"Local_Production_Volume\",\n      \"properties\": {\n        \"dtype\": \"number\",\n        \"std\": 1387.7573434265798,\n        \"min\": 0.0,\n        \"max\": 3564.0,\n        \"num_unique_values\": 16,\n        \"samples\": [\n          0.0,\n          1145.0\n        ],\n        \"semantic_type\": \"\",\n        \"description\": \"\"\n      }\n    },\n    {\n      \"column\": \"Local_Export_Volume\",\n      \"properties\": {\n        \"dtype\": \"number\",\n        \"std\": 778.0965806799461,\n        \"min\": 731.9,\n        \"max\": 2951.6,\n        \"num_unique_values\": 35,\n        \"samples\": [\n          1770.9,\n          1505.2\n        ],\n        \"semantic_type\": \"\",\n        \"description\": \"\"\n      }\n    },\n    {\n      \"column\": \"Global_Production_Volume\",\n      \"properties\": {\n        \"dtype\": \"number\",\n        \"std\": 4205.895495564643,\n        \"min\": 11732.0,\n        \"max\": 27156.0,\n        \"num_unique_values\": 59,\n        \"samples\": [\n          19156.0,\n          12568.0\n        ],\n        \"semantic_type\": \"\",\n        \"description\": \"\"\n      }\n    },\n    {\n      \"column\": \"Global_Consumption_Volume\",\n      \"properties\": {\n        \"dtype\": \"number\",\n        \"std\": 7051.831120260192,\n        \"min\": 11106.0,\n        \"max\": 39840.0,\n        \"num_unique_values\": 35,\n        \"samples\": [\n          28608.0,\n          39840.0\n        ],\n        \"semantic_type\": \"\",\n        \"description\": \"\"\n      }\n    },\n    {\n      \"column\": \"Temperature\",\n      \"properties\": {\n        \"dtype\": \"number\",\n        \"std\": 0.8375902123684713,\n        \"min\": 24.488750000000007,\n        \"max\": 28.686249999999994,\n        \"num_unique_values\": 66,\n        \"samples\": [\n          27.524374999999992,\n          25.713125\n        ],\n        \"semantic_type\": \"\",\n        \"description\": \"\"\n      }\n    },\n    {\n      \"column\": \"Rainfall\",\n      \"properties\": {\n        \"dtype\": \"number\",\n        \"std\": 118.46433021299632,\n        \"min\": 28.699000000000005,\n        \"max\": 585.5705,\n        \"num_unique_values\": 66,\n        \"samples\": [\n          82.85149999999999,\n          86.076\n        ],\n        \"semantic_type\": \"\",\n        \"description\": \"\"\n      }\n    },\n    {\n      \"column\": \"Exchange_Rate\",\n      \"properties\": {\n        \"dtype\": \"number\",\n        \"std\": 66.34556391449453,\n        \"min\": 181.4036,\n        \"max\": 363.394,\n        \"num_unique_values\": 65,\n        \"samples\": [\n          303.8121,\n          296.1796\n        ],\n        \"semantic_type\": \"\",\n        \"description\": \"\"\n      }\n    },\n    {\n      \"column\": \"Inflation_Rate\",\n      \"properties\": {\n        \"dtype\": \"number\",\n        \"std\": 20.713847449656857,\n        \"min\": -4.2,\n        \"max\": 69.8,\n        \"num_unique_values\": 52,\n        \"samples\": [\n          39.1,\n          2.4\n        ],\n        \"semantic_type\": \"\",\n        \"description\": \"\"\n      }\n    },\n    {\n      \"column\": \"Fuel_Price\",\n      \"properties\": {\n        \"dtype\": \"number\",\n        \"std\": 118,\n        \"min\": 104,\n        \"max\": 430,\n        \"num_unique_values\": 25,\n        \"samples\": [\n          405,\n          329\n        ],\n        \"semantic_type\": \"\",\n        \"description\": \"\"\n      }\n    }\n  ]\n}"
            }
          },
          "metadata": {},
          "execution_count": 16
        }
      ]
    },
    {
      "cell_type": "markdown",
      "source": [
        "#5. Parse Dates"
      ],
      "metadata": {
        "id": "2xIL0lwEW6eW"
      }
    },
    {
      "cell_type": "code",
      "source": [
        "df['Month'] = pd.to_datetime(df['Month'], format='%Y-%m')\n",
        "df = df.sort_values(by='Month')"
      ],
      "metadata": {
        "id": "YGC6EPhcW_c3"
      },
      "execution_count": 17,
      "outputs": []
    },
    {
      "cell_type": "markdown",
      "source": [
        "#6. Handle Missing Values Using KNN Imputation"
      ],
      "metadata": {
        "id": "WU0_MGcsYC2L"
      }
    },
    {
      "cell_type": "code",
      "source": [
        "features_to_impute = df.columns.drop(['Month', 'Grade', 'Region'])\n",
        "imputer = KNNImputer(n_neighbors=3)\n",
        "df_imputed = pd.DataFrame(imputer.fit_transform(df[features_to_impute]), columns=features_to_impute)\n",
        "df_imputed['Month'] = df.index.values"
      ],
      "metadata": {
        "id": "eCcckIWlYIMM"
      },
      "execution_count": 19,
      "outputs": []
    },
    {
      "cell_type": "markdown",
      "source": [
        "#7. Normalize the features"
      ],
      "metadata": {
        "id": "FAnmZDCeY7SU"
      }
    },
    {
      "cell_type": "code",
      "source": [
        "scaler = MinMaxScaler()\n",
        "scaled_data = scaler.fit_transform(df_imputed.drop('Month', axis=1))\n",
        "scaled_df = pd.DataFrame(scaled_data, columns=features_to_impute)\n",
        "scaled_df['Month'] = df_imputed['Month'].values"
      ],
      "metadata": {
        "id": "0qfJNq7FZFRr"
      },
      "execution_count": 22,
      "outputs": []
    },
    {
      "cell_type": "markdown",
      "source": [
        "#8. Sequence Preparation"
      ],
      "metadata": {
        "id": "lQpZ31KxZUtU"
      }
    },
    {
      "cell_type": "code",
      "source": [
        "def create_seq2seq_data(df, sequence_length=12, prediction_length=3):\n",
        "    X, y = [], []\n",
        "    df = df.sort_values(\"Month\").reset_index(drop=True)\n",
        "    data = df.drop(\"Month\", axis=1).values\n",
        "\n",
        "    for i in range(len(data) - sequence_length - prediction_length + 1):\n",
        "        X.append(data[i:i+sequence_length])\n",
        "        y.append(data[i+sequence_length:i+sequence_length+prediction_length])\n",
        "\n",
        "    return np.array(X), np.array(y)"
      ],
      "metadata": {
        "id": "75mgfLupZZV6"
      },
      "execution_count": 23,
      "outputs": []
    },
    {
      "cell_type": "markdown",
      "source": [
        "#9. Split the Dataset"
      ],
      "metadata": {
        "id": "G8CLkF1xZeDL"
      }
    },
    {
      "cell_type": "code",
      "source": [
        "split_date = pd.to_datetime(\"2024-07-01\")\n",
        "scaled_df['Month'] = pd.to_datetime(scaled_df['Month'])\n",
        "train_df = scaled_df[scaled_df[\"Month\"] < split_date].reset_index(drop=True)\n",
        "test_df = scaled_df[scaled_df[\"Month\"] >= split_date].reset_index(drop=True)"
      ],
      "metadata": {
        "id": "YZyRsFoxZv0b"
      },
      "execution_count": 26,
      "outputs": []
    },
    {
      "cell_type": "markdown",
      "metadata": {
        "id": "491cdacf"
      },
      "source": [
        "#10. Create Sequences"
      ]
    },
    {
      "cell_type": "code",
      "metadata": {
        "colab": {
          "base_uri": "https://localhost:8080/"
        },
        "id": "4587c14a",
        "outputId": "793e9837-5cb4-4207-9e94-405e1e94709f"
      },
      "source": [
        "X_train, y_train = create_seq2seq_data(train_df)\n",
        "X_test, y_test = create_seq2seq_data(test_df)\n",
        "\n",
        "print(\"Train sequences:\", X_train.shape, y_train.shape)\n",
        "print(\"Test sequences:\", X_test.shape, y_test.shape)"
      ],
      "execution_count": 27,
      "outputs": [
        {
          "output_type": "stream",
          "name": "stdout",
          "text": [
            "Train sequences: (2758, 12, 13) (2758, 3, 13)\n",
            "Test sequences: (0,) (0,)\n"
          ]
        }
      ]
    },
    {
      "cell_type": "markdown",
      "source": [
        "#11. Save Preprocessed Data"
      ],
      "metadata": {
        "id": "fnbHtx7eaaEK"
      }
    },
    {
      "cell_type": "code",
      "source": [
        "np.savez_compressed(os.path.join(save_path, \"seq2seq_cinnamon_data.npz\"),\n",
        "                    X_train=X_train, y_train=y_train,\n",
        "                    X_test=X_test, y_test=y_test)\n",
        "\n",
        "print(f\"\\n✅ Preprocessed data saved to: {save_path}\")"
      ],
      "metadata": {
        "colab": {
          "base_uri": "https://localhost:8080/"
        },
        "id": "3yhaYj20aecS",
        "outputId": "1bfaa893-5997-4a18-b131-9258e14ae9ef"
      },
      "execution_count": 28,
      "outputs": [
        {
          "output_type": "stream",
          "name": "stdout",
          "text": [
            "\n",
            "✅ Preprocessed data saved to: /content/drive/MyDrive/VERGER/Cinnamon_Price_Prediction\n"
          ]
        }
      ]
    },
    {
      "cell_type": "markdown",
      "source": [
        "#12. Plotting an Example Sequence"
      ],
      "metadata": {
        "id": "iAc0eXDQajh1"
      }
    },
    {
      "cell_type": "code",
      "source": [
        "plt.figure(figsize=(12, 5))\n",
        "for i, feature in enumerate(features[:3]):  # plot only first 3 features for clarity\n",
        "    plt.plot(X_train[0][:, i], label=f'Input: {feature}')\n",
        "    plt.plot(range(len(X_train[0]), len(X_train[0]) + len(y_train[0])), y_train[0][:, i], '--', label=f'Target: {feature}')\n",
        "plt.title(\"Example Input Sequence and Target\")\n",
        "plt.xlabel(\"Time Steps\")\n",
        "plt.legend()\n",
        "plt.grid()\n",
        "plt.show()"
      ],
      "metadata": {
        "colab": {
          "base_uri": "https://localhost:8080/",
          "height": 487
        },
        "id": "rj0MRlNwav5t",
        "outputId": "f7b8f231-df10-4f45-ddb7-d1ec6216b3bd"
      },
      "execution_count": 29,
      "outputs": [
        {
          "output_type": "display_data",
          "data": {
            "text/plain": [
              "<Figure size 1200x500 with 1 Axes>"
            ],
            "image/png": "[encoded data removed]"
          },
          "metadata": {}
        }
      ]
    }
  ]
}