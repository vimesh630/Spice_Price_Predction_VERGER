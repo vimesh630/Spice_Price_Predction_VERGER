{
  "nbformat": 4,
  "nbformat_minor": 0,
  "metadata": {
    "colab": {
      "provenance": [],
      "mount_file_id": "1FTkSrB6xENxX21lufqG_60Kn49TEaKJr",
      "authorship_tag": "ABX9TyNhBDU2J5v9oQdwXDePzoGT",
      "include_colab_link": true
    },
    "kernelspec": {
      "name": "python3",
      "display_name": "Python 3"
    },
    "language_info": {
      "name": "python"
    }
  },
  "cells": [
    {
      "cell_type": "markdown",
      "metadata": {
        "id": "view-in-github",
        "colab_type": "text"
      },
      "source": [
        "<a href=\"https://colab.research.google.com/github/vimesh630/Spice_Price_Predction_VERGER/blob/Cinnamon/Preprocessing_for_Cinnamon_Price_Forecasting_Model.ipynb\" target=\"_parent\"><img src=\"https://colab.research.google.com/assets/colab-badge.svg\" alt=\"Open In Colab\"/></a>"
      ]
    },
    {
      "cell_type": "markdown",
      "source": [
        "#1. Mount Google Drive and Import Libraries"
      ],
      "metadata": {
        "id": "1jTPNB2K11m6"
      }
    },
    {
      "cell_type": "code",
      "source": [
        "from google.colab import drive\n",
        "drive.mount('/content/drive')\n",
        "\n",
        "import pandas as pd\n",
        "import numpy as np\n",
        "import os"
      ],
      "metadata": {
        "colab": {
          "base_uri": "https://localhost:8080/"
        },
        "id": "xBBMPy_t17Gr",
        "outputId": "cd272316-05a4-4f41-a37b-0d76f50037ba"
      },
      "execution_count": 2,
      "outputs": [
        {
          "output_type": "stream",
          "name": "stdout",
          "text": [
            "Drive already mounted at /content/drive; to attempt to forcibly remount, call drive.mount(\"/content/drive\", force_remount=True).\n"
          ]
        }
      ]
    },
    {
      "cell_type": "markdown",
      "source": [
        "#2. Load Dataset from Google Drive"
      ],
      "metadata": {
        "id": "-mdz46my19L_"
      }
    },
    {
      "cell_type": "code",
      "source": [
        "file_path = \"/content/drive/MyDrive/VERGER/Cinnamon_Price_Prediction/Cinnamon_Dataset_New_0001.xlsx\"\n",
        "df = pd.read_excel(file_path, sheet_name='Sheet1')\n",
        "\n",
        "print(f\"Original dataset shape: {df.shape}\")"
      ],
      "metadata": {
        "colab": {
          "base_uri": "https://localhost:8080/"
        },
        "id": "2HZ-nVVW2B02",
        "outputId": "f1e399a1-d78c-47a7-e418-3724728b52bb"
      },
      "execution_count": 3,
      "outputs": [
        {
          "output_type": "stream",
          "name": "stdout",
          "text": [
            "Original dataset shape: (2772, 16)\n"
          ]
        }
      ]
    },
    {
      "cell_type": "markdown",
      "source": [
        "#3. Keep Only Active Grade x Region Pairs"
      ],
      "metadata": {
        "id": "_rEE5fe33W8a"
      }
    },
    {
      "cell_type": "code",
      "source": [
        "df = df[df['Is_Active_Region'] == 1].copy()\n",
        "print(f\"After filtering active regions: {df.shape}\")"
      ],
      "metadata": {
        "colab": {
          "base_uri": "https://localhost:8080/"
        },
        "id": "uBB4X2yL3gBO",
        "outputId": "0c91e78e-78ee-4e07-c231-4f7422a9c38b"
      },
      "execution_count": 4,
      "outputs": [
        {
          "output_type": "stream",
          "name": "stdout",
          "text": [
            "After filtering active regions: (2244, 16)\n"
          ]
        }
      ]
    },
    {
      "cell_type": "markdown",
      "source": [
        "#4. Ensure Month Column is datetime"
      ],
      "metadata": {
        "id": "d80C7BEl-hAR"
      }
    },
    {
      "cell_type": "code",
      "source": [
        "if not np.issubdtype(df['Month'].dtype, np.datetime64):\n",
        "    df['Month'] = pd.to_datetime(df['Month'], errors='coerce')"
      ],
      "metadata": {
        "id": "j5x0mr7Z-m0O"
      },
      "execution_count": 5,
      "outputs": []
    },
    {
      "cell_type": "markdown",
      "source": [
        "#5. Fill Missing Regional Prices"
      ],
      "metadata": {
        "id": "hbKRgy-X3zxx"
      }
    },
    {
      "cell_type": "code",
      "source": [
        "df['Regional_Price'] = df.groupby(['Grade', 'Region'])['Regional_Price']\\\n",
        "    .transform(lambda x: x.interpolate(method='linear').fillna(x.mean()))  # fill with mean if still NaN\n",
        "df['Regional_Price'] = df['Regional_Price'].fillna(df['National_Price'])"
      ],
      "metadata": {
        "id": "9-68PRK234mx"
      },
      "execution_count": 6,
      "outputs": []
    },
    {
      "cell_type": "markdown",
      "source": [
        "#6. Fill Missing Numeric Features"
      ],
      "metadata": {
        "id": "wqZ5pDDp361x"
      }
    },
    {
      "cell_type": "code",
      "source": [
        "numeric_cols = df.select_dtypes(include=[np.number]).columns.tolist()\n",
        "if 'Regional_Price' in numeric_cols:\n",
        "    numeric_cols.remove('Regional_Price')  # exclude target\n",
        "\n",
        "for col in numeric_cols:\n",
        "    df[col] = df.groupby(['Grade', 'Region'])[col]\\\n",
        "                .transform(lambda x: x.ffill().bfill())"
      ],
      "metadata": {
        "id": "1rvtZPpF3_9M"
      },
      "execution_count": 7,
      "outputs": []
    },
    {
      "cell_type": "markdown",
      "source": [
        "#6. Create Date-Based Features"
      ],
      "metadata": {
        "id": "eI4WNKn54C85"
      }
    },
    {
      "cell_type": "code",
      "source": [
        "df['year'] = df['Month'].dt.year\n",
        "df['month'] = df['Month'].dt.month\n",
        "df['month_sin'] = np.sin(2 * np.pi * df['month'] / 12)\n",
        "df['month_cos'] = np.cos(2 * np.pi * df['month'] / 12)"
      ],
      "metadata": {
        "id": "j67zfFZC4GNm"
      },
      "execution_count": 8,
      "outputs": []
    },
    {
      "cell_type": "markdown",
      "source": [
        "#7. Create lag and rolling Features"
      ],
      "metadata": {
        "id": "rE912YEl4ISb"
      }
    },
    {
      "cell_type": "code",
      "source": [
        "# === Lags ===\n",
        "for lag in [1, 2, 3, 6, 12]:\n",
        "    df[f'price_lag_{lag}'] = df.groupby(['Grade', 'Region'])['Regional_Price'].shift(lag)\n",
        "\n",
        "# === Rolling stats ===\n",
        "for window in [3, 6, 12]:\n",
        "    df[f'price_roll_mean_{window}'] = df.groupby(['Grade', 'Region'])['Regional_Price']\\\n",
        "        .shift(1).rolling(window).mean()\n",
        "    df[f'price_roll_std_{window}'] = df.groupby(['Grade', 'Region'])['Regional_Price']\\\n",
        "        .shift(1).rolling(window).std()"
      ],
      "metadata": {
        "id": "f1FPEfOn4NOI"
      },
      "execution_count": 9,
      "outputs": []
    },
    {
      "cell_type": "markdown",
      "source": [
        "#8. Log Transform of Price"
      ],
      "metadata": {
        "id": "6Ml_ajp6xNZn"
      }
    },
    {
      "cell_type": "code",
      "source": [
        "df['log_price']=np.log1p(df['Regional_Price'])"
      ],
      "metadata": {
        "id": "MxYq3AjJxQ91"
      },
      "execution_count": 10,
      "outputs": []
    },
    {
      "cell_type": "markdown",
      "source": [
        "#9. Relative % Change"
      ],
      "metadata": {
        "id": "OARSd4oxxY94"
      }
    },
    {
      "cell_type": "code",
      "source": [
        "for lag in [1, 3, 6, 12]:\n",
        "    df[f'price_pct_change_{lag}'] = df.groupby(['Grade', 'Region'])['Regional_Price']\\\n",
        "        .pct_change(lag)"
      ],
      "metadata": {
        "id": "cLuN8RpuxhXW"
      },
      "execution_count": 11,
      "outputs": []
    },
    {
      "cell_type": "markdown",
      "source": [
        "#10. Price Shock Indicator (large jump/drop)"
      ],
      "metadata": {
        "id": "Ra0khnD7xkxt"
      }
    },
    {
      "cell_type": "code",
      "source": [
        "df['price_shock_flag'] = (df['price_pct_change_1'].abs() > 0.15).astype(int)"
      ],
      "metadata": {
        "id": "hZrUgsiCxnrI"
      },
      "execution_count": 12,
      "outputs": []
    },
    {
      "cell_type": "markdown",
      "source": [
        "#11. Momentum (sum of last n% changes)"
      ],
      "metadata": {
        "id": "1Bqwlc11xq7j"
      }
    },
    {
      "cell_type": "code",
      "source": [
        "for window in [3, 6]:\n",
        "    df[f'momentum_{window}'] = df.groupby(['Grade', 'Region'])['price_pct_change_1']\\\n",
        "        .rolling(window).sum().reset_index(level=[0,1], drop=True)"
      ],
      "metadata": {
        "id": "t_Cmgv3cx3Ug"
      },
      "execution_count": 13,
      "outputs": []
    },
    {
      "cell_type": "markdown",
      "source": [
        "#12. Crisis Period Dummy"
      ],
      "metadata": {
        "id": "i7KBQ8dWx5vr"
      }
    },
    {
      "cell_type": "code",
      "source": [
        "df['crisis_flag'] = ((df['Month'] >= '2021-06') & (df['Month'] <= '2022-12')).astype(int)"
      ],
      "metadata": {
        "id": "kuaLPThnyF_l"
      },
      "execution_count": 14,
      "outputs": []
    },
    {
      "cell_type": "markdown",
      "source": [
        "#13. Interaction Terms"
      ],
      "metadata": {
        "id": "xdgF0qJryJ23"
      }
    },
    {
      "cell_type": "code",
      "source": [
        "df['region_month'] = df['Region'].astype(str) + \"_\" + df['month'].astype(str)\n",
        "df['grade_region'] = df['Grade'].astype(str) + \"_\" + df['Region'].astype(str)"
      ],
      "metadata": {
        "id": "7NODo2sRyMuN"
      },
      "execution_count": 15,
      "outputs": []
    },
    {
      "cell_type": "markdown",
      "source": [
        "#14. Categorical Encoding"
      ],
      "metadata": {
        "id": "GwEAeK5HyRJd"
      }
    },
    {
      "cell_type": "code",
      "source": [
        "df['Grade'] = df['Grade'].astype('category')\n",
        "df['Region'] = df['Region'].astype('category')\n",
        "df['region_month'] = df['region_month'].astype('category')\n",
        "df['grade_region'] = df['grade_region'].astype('category')"
      ],
      "metadata": {
        "id": "cAeYRrDgyTsg"
      },
      "execution_count": 16,
      "outputs": []
    },
    {
      "cell_type": "markdown",
      "source": [
        "#15. Final Clean"
      ],
      "metadata": {
        "id": "lSROxVDhyWc0"
      }
    },
    {
      "cell_type": "code",
      "source": [
        "df = df.dropna().reset_index(drop=True)\n",
        "print(f\"Final dataset shape after dropping NaNs: {df.shape}\")"
      ],
      "metadata": {
        "colab": {
          "base_uri": "https://localhost:8080/"
        },
        "id": "A-dXgjU0yX-R",
        "outputId": "289777e1-2899-40a4-a60f-7acde8bc2f8d"
      },
      "execution_count": 17,
      "outputs": [
        {
          "output_type": "stream",
          "name": "stdout",
          "text": [
            "Final dataset shape after dropping NaNs: (1836, 42)\n"
          ]
        }
      ]
    },
    {
      "cell_type": "markdown",
      "source": [
        "# Save"
      ],
      "metadata": {
        "id": "c0nc7cgAycxq"
      }
    },
    {
      "cell_type": "code",
      "source": [
        "output_path = \"/content/drive/MyDrive/VERGER/Cinnamon_Price_Prediction/Cinnamon_Dataset_Preprocessed_CrisisAware.csv\"\n",
        "df.to_csv(output_path, index=False)\n",
        "print(f\"Preprocessed dataset saved to: {output_path}\")"
      ],
      "metadata": {
        "colab": {
          "base_uri": "https://localhost:8080/"
        },
        "id": "U7D-ubNVyeXO",
        "outputId": "644c03a0-3552-4049-be0d-d94f0d9f9d0e"
      },
      "execution_count": 18,
      "outputs": [
        {
          "output_type": "stream",
          "name": "stdout",
          "text": [
            "Preprocessed dataset saved to: /content/drive/MyDrive/VERGER/Cinnamon_Price_Prediction/Cinnamon_Dataset_Preprocessed_CrisisAware.csv\n"
          ]
        }
      ]
    }
  ]
}