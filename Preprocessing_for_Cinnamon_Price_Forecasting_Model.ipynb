{
  "nbformat": 4,
  "nbformat_minor": 0,
  "metadata": {
    "colab": {
      "provenance": [],
      "authorship_tag": "ABX9TyNHiuKa3PisIZ3Z/aWPQRU3",
      "include_colab_link": true
    },
    "kernelspec": {
      "name": "python3",
      "display_name": "Python 3"
    },
    "language_info": {
      "name": "python"
    }
  },
  "cells": [
    {
      "cell_type": "markdown",
      "metadata": {
        "id": "view-in-github",
        "colab_type": "text"
      },
      "source": [
        "<a href=\"https://colab.research.google.com/github/vimesh630/Spice_Price_Predction_VERGER/blob/Cinnamon/Preprocessing_for_Cinnamon_Price_Forecasting_Model.ipynb\" target=\"_parent\"><img src=\"https://colab.research.google.com/assets/colab-badge.svg\" alt=\"Open In Colab\"/></a>"
      ]
    },
    {
      "cell_type": "markdown",
      "source": [
        "#1. Mount Google Drive"
      ],
      "metadata": {
        "id": "CwgcsRO2x5_v"
      }
    },
    {
      "cell_type": "code",
      "execution_count": null,
      "metadata": {
        "id": "Vb3ih5lqiLai"
      },
      "outputs": [],
      "source": [
        "from google.colab import drive\n",
        "drive.mount('/content/drive')"
      ]
    },
    {
      "cell_type": "markdown",
      "source": [
        "#2. Setting File Paths"
      ],
      "metadata": {
        "id": "3-IiRZlfzZlf"
      }
    },
    {
      "cell_type": "code",
      "source": [
        "input_path = '/content/drive/MyDrive/VERGER/Cinnamon_Price_Prediction/Cinnamon_Dataset_New_0001.xlsx'\n",
        "clean_output_path = '/content/drive/MyDrive/VERGER/Cinnamon_Price_Prediction/clean_train_data.csv'\n",
        "test_output_path = '/content/drive/MyDrive/VERGER/Cinnamon_Price_Prediction/clean_test_data.csv'\n",
        "scaled_train_output = '/content/drive/MyDrive/VERGER/Cinnamon_Price_Prediction/scaled_train_lstm.csv'\n",
        "scaled_test_output = '/content/drive/MyDrive/VERGER/Cinnamon_Price_Prediction/scaled_test_lstm.csv'"
      ],
      "metadata": {
        "id": "VHkJ_TMuzlr5"
      },
      "execution_count": null,
      "outputs": []
    }
  ]
}